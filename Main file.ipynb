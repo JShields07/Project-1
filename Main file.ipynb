{
 "cells": [
  {
   "attachments": {},
   "cell_type": "markdown",
   "metadata": {},
   "source": [
    "# Alcohol Reviews Analysis\n",
    "\n",
    "In this challenge, we will be finding out what is objectively the best alcohol that you can get based off multiple factors. First, we will find the 3 best of all three groups and then find the 3 overall best picks between the three groups.\n",
    "\n",
    "## Basis of these decisions\n",
    "Going to be comparing Price, Rating/Rate Count, (R/RC)/Price, Average ABV/ABV’s listed. \n",
    "\n",
    "Will break it down by  \n",
    "\n",
    "Each beverage type: \n",
    "\n",
    "Finding Average Price \n",
    "\n",
    "Average Rating \n",
    "\n",
    "Average R/RC \n",
    "\n",
    "Average (R/RC)/Price \n",
    "\n",
    "\n",
    " \n",
    "\n",
    "Going to compare them internally, find the 3 best of each\n",
    "\n",
    "Then going to compare against each other and find the best 3 overall.\n",
    "\n"
   ]
  },
  {
   "cell_type": "code",
   "execution_count": 39,
   "metadata": {},
   "outputs": [],
   "source": [
    "# Importing the required libraries and dependencies\n",
    "import numpy as np\n",
    "import pandas as pd\n",
    "import hvplot.pandas\n",
    "from pathlib import Path\n",
    "import csv"
   ]
  },
  {
   "cell_type": "code",
   "execution_count": 40,
   "metadata": {},
   "outputs": [],
   "source": [
    "Beer_data_df = pd.read_csv(\"beer_data.csv\")\n",
    "Spirits_data_df = pd.read_csv(\"spirits_data.csv\")\n",
    "Wine_data_df = pd.read_csv(\"wine_data.csv\")"
   ]
  },
  {
   "cell_type": "code",
   "execution_count": 41,
   "metadata": {},
   "outputs": [
    {
     "data": {
      "text/html": [
       "<div>\n",
       "<style scoped>\n",
       "    .dataframe tbody tr th:only-of-type {\n",
       "        vertical-align: middle;\n",
       "    }\n",
       "\n",
       "    .dataframe tbody tr th {\n",
       "        vertical-align: top;\n",
       "    }\n",
       "\n",
       "    .dataframe thead th {\n",
       "        text-align: right;\n",
       "    }\n",
       "</style>\n",
       "<table border=\"1\" class=\"dataframe\">\n",
       "  <thead>\n",
       "    <tr style=\"text-align: right;\">\n",
       "      <th></th>\n",
       "      <th>Unnamed: 0</th>\n",
       "      <th>Name</th>\n",
       "      <th>Country</th>\n",
       "      <th>Brand</th>\n",
       "      <th>Categories</th>\n",
       "      <th>Type</th>\n",
       "      <th>Tasting Notes</th>\n",
       "      <th>ABV</th>\n",
       "      <th>IBU</th>\n",
       "      <th>Calories Per Serving (12 OZ/0.35L)</th>\n",
       "      <th>Carbs Per Serving (12 OZ/0.35L)</th>\n",
       "      <th>Food Pairing</th>\n",
       "      <th>Suggested Serving Temperature</th>\n",
       "      <th>Rating</th>\n",
       "      <th>Rate Count</th>\n",
       "      <th>Price</th>\n",
       "      <th>Volume</th>\n",
       "      <th>Description</th>\n",
       "    </tr>\n",
       "  </thead>\n",
       "  <tbody>\n",
       "    <tr>\n",
       "      <th>0</th>\n",
       "      <td>304</td>\n",
       "      <td>Mikkeller Hop On Drink’In Berliner</td>\n",
       "      <td>Denmark</td>\n",
       "      <td>Mikkeller</td>\n",
       "      <td>ALE, Berliner Weisse, Sour  Wild Ale</td>\n",
       "      <td>Craft Beer</td>\n",
       "      <td>NaN</td>\n",
       "      <td>2.80%</td>\n",
       "      <td>NaN</td>\n",
       "      <td>NaN</td>\n",
       "      <td>NaN</td>\n",
       "      <td>NaN</td>\n",
       "      <td>45-50° F</td>\n",
       "      <td>5</td>\n",
       "      <td>1</td>\n",
       "      <td>$4.44</td>\n",
       "      <td>NaN</td>\n",
       "      <td>Dry-hopped version of the regular Drink'in Ber...</td>\n",
       "    </tr>\n",
       "    <tr>\n",
       "      <th>1</th>\n",
       "      <td>171</td>\n",
       "      <td>Evil Twin Sour Bikini</td>\n",
       "      <td>United States</td>\n",
       "      <td>Evil Twin</td>\n",
       "      <td>ALE, Sour  Wild Ale</td>\n",
       "      <td>Craft Beer</td>\n",
       "      <td>NaN</td>\n",
       "      <td>3%</td>\n",
       "      <td>NaN</td>\n",
       "      <td>NaN</td>\n",
       "      <td>NaN</td>\n",
       "      <td>NaN</td>\n",
       "      <td>45-50° F</td>\n",
       "      <td>5</td>\n",
       "      <td>1</td>\n",
       "      <td>$11.99</td>\n",
       "      <td>NaN</td>\n",
       "      <td>Named after atom bomb test grounds, designed b...</td>\n",
       "    </tr>\n",
       "    <tr>\n",
       "      <th>2</th>\n",
       "      <td>319</td>\n",
       "      <td>Mikkeller Brand New Normal</td>\n",
       "      <td>United States</td>\n",
       "      <td>Mikkeller</td>\n",
       "      <td>ALE, Berliner Weisse, Sour  Wild Ale</td>\n",
       "      <td>Craft Beer</td>\n",
       "      <td>NaN</td>\n",
       "      <td>3.20%</td>\n",
       "      <td>NaN</td>\n",
       "      <td>NaN</td>\n",
       "      <td>NaN</td>\n",
       "      <td>NaN</td>\n",
       "      <td>45-50° F</td>\n",
       "      <td>5</td>\n",
       "      <td>1</td>\n",
       "      <td>$12.99</td>\n",
       "      <td>NaN</td>\n",
       "      <td>NaN</td>\n",
       "    </tr>\n",
       "    <tr>\n",
       "      <th>3</th>\n",
       "      <td>181</td>\n",
       "      <td>Evil Twin Sanguinem Aurantiaco</td>\n",
       "      <td>United States</td>\n",
       "      <td>Evil Twin</td>\n",
       "      <td>ALE, Sour  Wild Ale</td>\n",
       "      <td>Craft Beer</td>\n",
       "      <td>NaN</td>\n",
       "      <td>3.25%</td>\n",
       "      <td>NaN</td>\n",
       "      <td>NaN</td>\n",
       "      <td>NaN</td>\n",
       "      <td>NaN</td>\n",
       "      <td>45-50° F</td>\n",
       "      <td>5</td>\n",
       "      <td>1</td>\n",
       "      <td>$10.99</td>\n",
       "      <td>NaN</td>\n",
       "      <td>Sour ale with blood orange added.</td>\n",
       "    </tr>\n",
       "    <tr>\n",
       "      <th>4</th>\n",
       "      <td>317</td>\n",
       "      <td>Mikkeller Hallo Ich Bin Berliner Watermelon</td>\n",
       "      <td>Denmark</td>\n",
       "      <td>Mikkeller</td>\n",
       "      <td>ALE, Berliner Weisse, Sour  Wild Ale</td>\n",
       "      <td>Craft Beer</td>\n",
       "      <td>NaN</td>\n",
       "      <td>3.40%</td>\n",
       "      <td>NaN</td>\n",
       "      <td>NaN</td>\n",
       "      <td>NaN</td>\n",
       "      <td>NaN</td>\n",
       "      <td>45-50° F</td>\n",
       "      <td>5</td>\n",
       "      <td>1</td>\n",
       "      <td>$4.99</td>\n",
       "      <td>NaN</td>\n",
       "      <td>Berliner-style Weisse beer brewed with Watermelon</td>\n",
       "    </tr>\n",
       "  </tbody>\n",
       "</table>\n",
       "</div>"
      ],
      "text/plain": [
       "   Unnamed: 0                                         Name        Country  \\\n",
       "0         304           Mikkeller Hop On Drink’In Berliner        Denmark   \n",
       "1         171                        Evil Twin Sour Bikini  United States   \n",
       "2         319                   Mikkeller Brand New Normal  United States   \n",
       "3         181               Evil Twin Sanguinem Aurantiaco  United States   \n",
       "4         317  Mikkeller Hallo Ich Bin Berliner Watermelon        Denmark   \n",
       "\n",
       "       Brand                            Categories        Type Tasting Notes  \\\n",
       "0  Mikkeller  ALE, Berliner Weisse, Sour  Wild Ale  Craft Beer           NaN   \n",
       "1  Evil Twin                   ALE, Sour  Wild Ale  Craft Beer           NaN   \n",
       "2  Mikkeller  ALE, Berliner Weisse, Sour  Wild Ale  Craft Beer           NaN   \n",
       "3  Evil Twin                   ALE, Sour  Wild Ale  Craft Beer           NaN   \n",
       "4  Mikkeller  ALE, Berliner Weisse, Sour  Wild Ale  Craft Beer           NaN   \n",
       "\n",
       "     ABV  IBU  Calories Per Serving (12 OZ/0.35L)  \\\n",
       "0  2.80%  NaN                                 NaN   \n",
       "1     3%  NaN                                 NaN   \n",
       "2  3.20%  NaN                                 NaN   \n",
       "3  3.25%  NaN                                 NaN   \n",
       "4  3.40%  NaN                                 NaN   \n",
       "\n",
       "   Carbs Per Serving (12 OZ/0.35L) Food Pairing Suggested Serving Temperature  \\\n",
       "0                              NaN          NaN                      45-50° F   \n",
       "1                              NaN          NaN                      45-50° F   \n",
       "2                              NaN          NaN                      45-50° F   \n",
       "3                              NaN          NaN                      45-50° F   \n",
       "4                              NaN          NaN                      45-50° F   \n",
       "\n",
       "   Rating  Rate Count    Price  Volume  \\\n",
       "0       5           1   $4.44      NaN   \n",
       "1       5           1  $11.99      NaN   \n",
       "2       5           1  $12.99      NaN   \n",
       "3       5           1  $10.99      NaN   \n",
       "4       5           1   $4.99      NaN   \n",
       "\n",
       "                                         Description  \n",
       "0  Dry-hopped version of the regular Drink'in Ber...  \n",
       "1  Named after atom bomb test grounds, designed b...  \n",
       "2                                                NaN  \n",
       "3                  Sour ale with blood orange added.  \n",
       "4  Berliner-style Weisse beer brewed with Watermelon  "
      ]
     },
     "execution_count": 41,
     "metadata": {},
     "output_type": "execute_result"
    }
   ],
   "source": [
    "Beer_data_df.head()"
   ]
  },
  {
   "cell_type": "code",
   "execution_count": 42,
   "metadata": {},
   "outputs": [
    {
     "data": {
      "text/html": [
       "<div>\n",
       "<style scoped>\n",
       "    .dataframe tbody tr th:only-of-type {\n",
       "        vertical-align: middle;\n",
       "    }\n",
       "\n",
       "    .dataframe tbody tr th {\n",
       "        vertical-align: top;\n",
       "    }\n",
       "\n",
       "    .dataframe thead th {\n",
       "        text-align: right;\n",
       "    }\n",
       "</style>\n",
       "<table border=\"1\" class=\"dataframe\">\n",
       "  <thead>\n",
       "    <tr style=\"text-align: right;\">\n",
       "      <th></th>\n",
       "      <th>Unnamed: 0</th>\n",
       "      <th>Name</th>\n",
       "      <th>Country</th>\n",
       "      <th>Brand</th>\n",
       "      <th>Categories</th>\n",
       "      <th>Tasting Notes</th>\n",
       "      <th>ABV</th>\n",
       "      <th>Base Ingredient</th>\n",
       "      <th>Years Aged</th>\n",
       "      <th>Rating</th>\n",
       "      <th>Rate Count</th>\n",
       "      <th>Price</th>\n",
       "      <th>Volume</th>\n",
       "      <th>Description</th>\n",
       "    </tr>\n",
       "  </thead>\n",
       "  <tbody>\n",
       "    <tr>\n",
       "      <th>0</th>\n",
       "      <td>342</td>\n",
       "      <td>Gordon &amp; MacPhail Glen Grant 1965 42 Year</td>\n",
       "      <td>United Kingdom</td>\n",
       "      <td>Gordon  MacPhail</td>\n",
       "      <td>Scotch Whisky, Whiskey</td>\n",
       "      <td>NaN</td>\n",
       "      <td>40%</td>\n",
       "      <td>NaN</td>\n",
       "      <td>42.0</td>\n",
       "      <td>5.0</td>\n",
       "      <td>1</td>\n",
       "      <td>$20.00</td>\n",
       "      <td>NaN</td>\n",
       "      <td>This Rare Vintage Glen Grant was matured in re...</td>\n",
       "    </tr>\n",
       "    <tr>\n",
       "      <th>1</th>\n",
       "      <td>61</td>\n",
       "      <td>Dek Crave Chocolate Chili</td>\n",
       "      <td>United States</td>\n",
       "      <td>DeKuyper Liqueur</td>\n",
       "      <td>Chocolate, Sweet Liqueur, Liqueur</td>\n",
       "      <td>NaN</td>\n",
       "      <td>15%</td>\n",
       "      <td>NaN</td>\n",
       "      <td>NaN</td>\n",
       "      <td>5.0</td>\n",
       "      <td>1</td>\n",
       "      <td>$10.00</td>\n",
       "      <td>NaN</td>\n",
       "      <td>NaN</td>\n",
       "    </tr>\n",
       "    <tr>\n",
       "      <th>2</th>\n",
       "      <td>159</td>\n",
       "      <td>Smirnoff Root Beer 100 proof</td>\n",
       "      <td>United States</td>\n",
       "      <td>Smirnoff Vodka</td>\n",
       "      <td>American Vodka, Flavored Vodka, Vodka</td>\n",
       "      <td>NaN</td>\n",
       "      <td>50%</td>\n",
       "      <td>NaN</td>\n",
       "      <td>NaN</td>\n",
       "      <td>3.3</td>\n",
       "      <td>3</td>\n",
       "      <td>$8.00</td>\n",
       "      <td>NaN</td>\n",
       "      <td>Whether you sip it on the rocks or with soda a...</td>\n",
       "    </tr>\n",
       "    <tr>\n",
       "      <th>3</th>\n",
       "      <td>121</td>\n",
       "      <td>Bacardi Rum Grand Melon</td>\n",
       "      <td>Puerto Rico</td>\n",
       "      <td>Bacardi Rum</td>\n",
       "      <td>Flavored Rum, Rum</td>\n",
       "      <td>NaN</td>\n",
       "      <td>35%</td>\n",
       "      <td>NaN</td>\n",
       "      <td>NaN</td>\n",
       "      <td>5.0</td>\n",
       "      <td>1</td>\n",
       "      <td>$7.99</td>\n",
       "      <td>NaN</td>\n",
       "      <td>NaN</td>\n",
       "    </tr>\n",
       "    <tr>\n",
       "      <th>4</th>\n",
       "      <td>115</td>\n",
       "      <td>Bacardi Wolf Berry</td>\n",
       "      <td>Puerto Rico</td>\n",
       "      <td>Bacardi Rum</td>\n",
       "      <td>Flavored Rum, Rum</td>\n",
       "      <td>NaN</td>\n",
       "      <td>35%</td>\n",
       "      <td>NaN</td>\n",
       "      <td>NaN</td>\n",
       "      <td>5.0</td>\n",
       "      <td>1</td>\n",
       "      <td>$15.00</td>\n",
       "      <td>NaN</td>\n",
       "      <td>BACARDÍ® WOLF BERRY gets its unique flavor fro...</td>\n",
       "    </tr>\n",
       "  </tbody>\n",
       "</table>\n",
       "</div>"
      ],
      "text/plain": [
       "   Unnamed: 0                                       Name         Country  \\\n",
       "0         342  Gordon & MacPhail Glen Grant 1965 42 Year  United Kingdom   \n",
       "1          61                  Dek Crave Chocolate Chili   United States   \n",
       "2         159               Smirnoff Root Beer 100 proof   United States   \n",
       "3         121                    Bacardi Rum Grand Melon     Puerto Rico   \n",
       "4         115                         Bacardi Wolf Berry     Puerto Rico   \n",
       "\n",
       "              Brand                             Categories Tasting Notes  ABV  \\\n",
       "0  Gordon  MacPhail                 Scotch Whisky, Whiskey           NaN  40%   \n",
       "1  DeKuyper Liqueur      Chocolate, Sweet Liqueur, Liqueur           NaN  15%   \n",
       "2    Smirnoff Vodka  American Vodka, Flavored Vodka, Vodka           NaN  50%   \n",
       "3       Bacardi Rum                      Flavored Rum, Rum           NaN  35%   \n",
       "4       Bacardi Rum                      Flavored Rum, Rum           NaN  35%   \n",
       "\n",
       "  Base Ingredient  Years Aged  Rating  Rate Count    Price Volume  \\\n",
       "0             NaN        42.0     5.0           1  $20.00     NaN   \n",
       "1             NaN         NaN     5.0           1  $10.00     NaN   \n",
       "2             NaN         NaN     3.3           3   $8.00     NaN   \n",
       "3             NaN         NaN     5.0           1   $7.99     NaN   \n",
       "4             NaN         NaN     5.0           1  $15.00     NaN   \n",
       "\n",
       "                                         Description  \n",
       "0  This Rare Vintage Glen Grant was matured in re...  \n",
       "1                                                NaN  \n",
       "2  Whether you sip it on the rocks or with soda a...  \n",
       "3                                                NaN  \n",
       "4  BACARDÍ® WOLF BERRY gets its unique flavor fro...  "
      ]
     },
     "execution_count": 42,
     "metadata": {},
     "output_type": "execute_result"
    }
   ],
   "source": [
    "Spirits_data_df.head()"
   ]
  },
  {
   "cell_type": "code",
   "execution_count": 43,
   "metadata": {},
   "outputs": [
    {
     "data": {
      "text/html": [
       "<div>\n",
       "<style scoped>\n",
       "    .dataframe tbody tr th:only-of-type {\n",
       "        vertical-align: middle;\n",
       "    }\n",
       "\n",
       "    .dataframe tbody tr th {\n",
       "        vertical-align: top;\n",
       "    }\n",
       "\n",
       "    .dataframe thead th {\n",
       "        text-align: right;\n",
       "    }\n",
       "</style>\n",
       "<table border=\"1\" class=\"dataframe\">\n",
       "  <thead>\n",
       "    <tr style=\"text-align: right;\">\n",
       "      <th></th>\n",
       "      <th>Unnamed: 0</th>\n",
       "      <th>Name</th>\n",
       "      <th>Country</th>\n",
       "      <th>Brand</th>\n",
       "      <th>Categories</th>\n",
       "      <th>Tasting Notes</th>\n",
       "      <th>ABV</th>\n",
       "      <th>Food Pairing</th>\n",
       "      <th>Suggested Glassware</th>\n",
       "      <th>Suggested Serving Temperature</th>\n",
       "      <th>Sweet-Dry Scale</th>\n",
       "      <th>Body</th>\n",
       "      <th>Rating</th>\n",
       "      <th>Rate Count</th>\n",
       "      <th>Price</th>\n",
       "      <th>Volume</th>\n",
       "      <th>Description</th>\n",
       "    </tr>\n",
       "  </thead>\n",
       "  <tbody>\n",
       "    <tr>\n",
       "      <th>0</th>\n",
       "      <td>9</td>\n",
       "      <td>Block 537 Merlot Dry Creek</td>\n",
       "      <td>France</td>\n",
       "      <td>Vineyard Block Estate</td>\n",
       "      <td>Merlot, Red Wine</td>\n",
       "      <td>NaN</td>\n",
       "      <td>13.90%</td>\n",
       "      <td>Duck  Game Bird, Tomatoes</td>\n",
       "      <td>Bordeaux Glass</td>\n",
       "      <td>60-65° F</td>\n",
       "      <td>Dry Wine</td>\n",
       "      <td>Medium</td>\n",
       "      <td>5.0</td>\n",
       "      <td>1</td>\n",
       "      <td>$20.99</td>\n",
       "      <td>NaN</td>\n",
       "      <td>The wine is velvety and lush, with aromas and ...</td>\n",
       "    </tr>\n",
       "    <tr>\n",
       "      <th>1</th>\n",
       "      <td>10</td>\n",
       "      <td>Block 049 Merlot</td>\n",
       "      <td>France</td>\n",
       "      <td>Vineyard Block Estate</td>\n",
       "      <td>Merlot, Red Wine</td>\n",
       "      <td>NaN</td>\n",
       "      <td>14.50%</td>\n",
       "      <td>Duck  Game Bird, Tomatoes</td>\n",
       "      <td>Bordeaux Glass</td>\n",
       "      <td>60-65° F</td>\n",
       "      <td>Dry Wine</td>\n",
       "      <td>Medium</td>\n",
       "      <td>5.0</td>\n",
       "      <td>1</td>\n",
       "      <td>$21.99</td>\n",
       "      <td>NaN</td>\n",
       "      <td>Ripe and velvety on the palate. The aromas are...</td>\n",
       "    </tr>\n",
       "    <tr>\n",
       "      <th>2</th>\n",
       "      <td>23</td>\n",
       "      <td>Block 115 Arroyo Grande Valley Pinot Noir</td>\n",
       "      <td>United States</td>\n",
       "      <td>Vineyard Block Estate</td>\n",
       "      <td>Pinot Noir, Red Wine</td>\n",
       "      <td>NaN</td>\n",
       "      <td>14%</td>\n",
       "      <td>Fish - Meaty  Oily, Duck  Game Bird</td>\n",
       "      <td>Burgundy  Bourgogne Glass</td>\n",
       "      <td>55-60° F</td>\n",
       "      <td>NaN</td>\n",
       "      <td>Light</td>\n",
       "      <td>5.0</td>\n",
       "      <td>1</td>\n",
       "      <td>$24.99</td>\n",
       "      <td>NaN</td>\n",
       "      <td>Bright fruit aromas offer a perfumed nose of w...</td>\n",
       "    </tr>\n",
       "    <tr>\n",
       "      <th>3</th>\n",
       "      <td>24</td>\n",
       "      <td>Block 664 Pinot Noir Pommard</td>\n",
       "      <td>France</td>\n",
       "      <td>Vineyard Block Estate</td>\n",
       "      <td>Pinot Noir, Red Wine</td>\n",
       "      <td>NaN</td>\n",
       "      <td>13.50%</td>\n",
       "      <td>Fish - Meaty  Oily, Duck  Game Bird</td>\n",
       "      <td>Burgundy  Bourgogne Glass</td>\n",
       "      <td>55-60° F</td>\n",
       "      <td>NaN</td>\n",
       "      <td>Light</td>\n",
       "      <td>5.0</td>\n",
       "      <td>1</td>\n",
       "      <td>$25.99</td>\n",
       "      <td>NaN</td>\n",
       "      <td>Block 664 shows expertise in balancing power a...</td>\n",
       "    </tr>\n",
       "    <tr>\n",
       "      <th>4</th>\n",
       "      <td>29</td>\n",
       "      <td>Block 012 Red Wine Oak Knoll</td>\n",
       "      <td>United States</td>\n",
       "      <td>Vineyard Block Estate</td>\n",
       "      <td>Red Blend, Red Wine</td>\n",
       "      <td>NaN</td>\n",
       "      <td>14.50%</td>\n",
       "      <td>NaN</td>\n",
       "      <td>NaN</td>\n",
       "      <td>NaN</td>\n",
       "      <td>NaN</td>\n",
       "      <td>NaN</td>\n",
       "      <td>5.0</td>\n",
       "      <td>1</td>\n",
       "      <td>$20.99</td>\n",
       "      <td>NaN</td>\n",
       "      <td>The Block 012 is a red blend from the Oak Knol...</td>\n",
       "    </tr>\n",
       "  </tbody>\n",
       "</table>\n",
       "</div>"
      ],
      "text/plain": [
       "   Unnamed: 0                                       Name        Country  \\\n",
       "0           9                 Block 537 Merlot Dry Creek         France   \n",
       "1          10                           Block 049 Merlot         France   \n",
       "2          23  Block 115 Arroyo Grande Valley Pinot Noir  United States   \n",
       "3          24               Block 664 Pinot Noir Pommard         France   \n",
       "4          29               Block 012 Red Wine Oak Knoll  United States   \n",
       "\n",
       "                   Brand            Categories Tasting Notes     ABV  \\\n",
       "0  Vineyard Block Estate      Merlot, Red Wine           NaN  13.90%   \n",
       "1  Vineyard Block Estate      Merlot, Red Wine           NaN  14.50%   \n",
       "2  Vineyard Block Estate  Pinot Noir, Red Wine           NaN     14%   \n",
       "3  Vineyard Block Estate  Pinot Noir, Red Wine           NaN  13.50%   \n",
       "4  Vineyard Block Estate   Red Blend, Red Wine           NaN  14.50%   \n",
       "\n",
       "                          Food Pairing        Suggested Glassware  \\\n",
       "0            Duck  Game Bird, Tomatoes             Bordeaux Glass   \n",
       "1            Duck  Game Bird, Tomatoes             Bordeaux Glass   \n",
       "2  Fish - Meaty  Oily, Duck  Game Bird  Burgundy  Bourgogne Glass   \n",
       "3  Fish - Meaty  Oily, Duck  Game Bird  Burgundy  Bourgogne Glass   \n",
       "4                                  NaN                        NaN   \n",
       "\n",
       "  Suggested Serving Temperature Sweet-Dry Scale    Body  Rating  Rate Count  \\\n",
       "0                      60-65° F        Dry Wine  Medium     5.0           1   \n",
       "1                      60-65° F        Dry Wine  Medium     5.0           1   \n",
       "2                      55-60° F             NaN   Light     5.0           1   \n",
       "3                      55-60° F             NaN   Light     5.0           1   \n",
       "4                           NaN             NaN     NaN     5.0           1   \n",
       "\n",
       "     Price Volume                                        Description  \n",
       "0  $20.99     NaN  The wine is velvety and lush, with aromas and ...  \n",
       "1  $21.99     NaN  Ripe and velvety on the palate. The aromas are...  \n",
       "2  $24.99     NaN  Bright fruit aromas offer a perfumed nose of w...  \n",
       "3  $25.99     NaN  Block 664 shows expertise in balancing power a...  \n",
       "4  $20.99     NaN  The Block 012 is a red blend from the Oak Knol...  "
      ]
     },
     "execution_count": 43,
     "metadata": {},
     "output_type": "execute_result"
    }
   ],
   "source": [
    "Wine_data_df.head()"
   ]
  },
  {
   "attachments": {},
   "cell_type": "markdown",
   "metadata": {},
   "source": [
    "## Find the best of the beer\n",
    "Finding Average Price, \n",
    "Average Rating, \n",
    "Average R/RC, \n",
    "Average (R/RC)/Price, \n",
    "And Average ABV"
   ]
  },
  {
   "cell_type": "code",
   "execution_count": 44,
   "metadata": {},
   "outputs": [
    {
     "name": "stderr",
     "output_type": "stream",
     "text": [
      "c:\\Users\\jakes\\Anaconda3\\envs\\dev\\lib\\site-packages\\ipykernel_launcher.py:1: FutureWarning: The default value of regex will change from True to False in a future version. In addition, single character regular expressions will *not* be treated as literal strings when regex=True.\n",
      "  \"\"\"Entry point for launching an IPython kernel.\n"
     ]
    }
   ],
   "source": [
    "Beer_data_df['Price'] = Beer_data_df['Price'].str.replace('$', '').astype(float)"
   ]
  },
  {
   "cell_type": "code",
   "execution_count": 45,
   "metadata": {},
   "outputs": [],
   "source": [
    "Beer_data_df['Price'] = Beer_data_df['Price'].astype(float)"
   ]
  },
  {
   "cell_type": "code",
   "execution_count": 46,
   "metadata": {},
   "outputs": [],
   "source": [
    "# Clean the ABV column by removing the percentage sign and converting to float\n",
    "Beer_data_df['ABV'] = Beer_data_df['ABV'].str.replace('%', '').astype(float)\n"
   ]
  },
  {
   "cell_type": "code",
   "execution_count": 47,
   "metadata": {},
   "outputs": [
    {
     "name": "stdout",
     "output_type": "stream",
     "text": [
      "The average price of beer is: 15.12709030100325\n"
     ]
    }
   ],
   "source": [
    "#Write code to find the Average Price of the Beer\n",
    "#CODE HERE\n",
    "# Calculate the average price of beer\n",
    "beer_avg_price = Beer_data_df[\"Price\"].mean()\n",
    "print(\"The average price of beer is:\", beer_avg_price)"
   ]
  },
  {
   "cell_type": "code",
   "execution_count": 48,
   "metadata": {},
   "outputs": [
    {
     "name": "stdout",
     "output_type": "stream",
     "text": [
      "The average rating of beer is: 5.0\n"
     ]
    }
   ],
   "source": [
    "#Write code to find the Average Rating of the Beer\n",
    "#CODE HERE\n",
    "beer_avg_rating = Beer_data_df[\"Rating\"].mean()\n",
    "print(\"The average rating of beer is:\", beer_avg_rating)\n"
   ]
  },
  {
   "cell_type": "code",
   "execution_count": 49,
   "metadata": {},
   "outputs": [
    {
     "name": "stdout",
     "output_type": "stream",
     "text": [
      "The average rate count of beer is: 1.1070234113712374\n"
     ]
    }
   ],
   "source": [
    "#Write code to find the Average RC of the Beer\n",
    "#CODE HERE\n",
    "beer_avg_rc= Beer_data_df[\"Rate Count\"].mean()\n",
    "print(\"The average rate count of beer is:\", beer_avg_rc)"
   ]
  },
  {
   "cell_type": "code",
   "execution_count": 50,
   "metadata": {},
   "outputs": [
    {
     "name": "stdout",
     "output_type": "stream",
     "text": [
      "The average rating/rate count of beer is: 4.516616314199396\n"
     ]
    }
   ],
   "source": [
    "#Write code to find the Average R/RC of the Beer\n",
    "#CODE HERE\n",
    "beer_avg_rrc = beer_avg_rating / beer_avg_rc\n",
    "print(\"The average rating/rate count of beer is:\", beer_avg_rrc)"
   ]
  },
  {
   "cell_type": "code",
   "execution_count": 51,
   "metadata": {},
   "outputs": [
    {
     "name": "stdout",
     "output_type": "stream",
     "text": [
      "The worth of the beer is: 0.29857799645050365\n"
     ]
    }
   ],
   "source": [
    "#Write code to find the Average (R/RC)/Price of the Beer\n",
    "#CODE HERE\n",
    "beer_worth = beer_avg_rrc / beer_avg_price\n",
    "print(\"The worth of the beer is:\", beer_worth)"
   ]
  },
  {
   "cell_type": "code",
   "execution_count": 52,
   "metadata": {},
   "outputs": [
    {
     "name": "stdout",
     "output_type": "stream",
     "text": [
      "The average ABV count of beer is: 8.022909698996658\n"
     ]
    }
   ],
   "source": [
    "#Write code to find the Average ABV of the Beer\n",
    "#CODE HERE\n",
    "beer_avg_abv = Beer_data_df[\"ABV\"].mean()\n",
    "print(\"The average ABV count of beer is:\", beer_avg_abv)"
   ]
  },
  {
   "attachments": {},
   "cell_type": "markdown",
   "metadata": {},
   "source": [
    "#How to define the best chance of get a beer is based off "
   ]
  },
  {
   "attachments": {},
   "cell_type": "markdown",
   "metadata": {},
   "source": [
    "## Find the best of the spirits\n",
    "Finding Average Price, \n",
    "Average Rating, \n",
    "Average R/RC, \n",
    "Average (R/RC)/Price,\n",
    "Average ABV"
   ]
  },
  {
   "cell_type": "code",
   "execution_count": 53,
   "metadata": {},
   "outputs": [
    {
     "name": "stderr",
     "output_type": "stream",
     "text": [
      "c:\\Users\\jakes\\Anaconda3\\envs\\dev\\lib\\site-packages\\ipykernel_launcher.py:1: FutureWarning: The default value of regex will change from True to False in a future version. In addition, single character regular expressions will *not* be treated as literal strings when regex=True.\n",
      "  \"\"\"Entry point for launching an IPython kernel.\n"
     ]
    }
   ],
   "source": [
    "Spirits_data_df['Price'] = Spirits_data_df['Price'].str.replace(',', '').str.replace('$', '').str.strip().astype(float)\n"
   ]
  },
  {
   "cell_type": "code",
   "execution_count": 54,
   "metadata": {},
   "outputs": [],
   "source": [
    "Spirits_data_df['Price'] = Spirits_data_df['Price'].astype(float)"
   ]
  },
  {
   "cell_type": "code",
   "execution_count": 55,
   "metadata": {},
   "outputs": [],
   "source": [
    "# Clean the ABV column by removing the percentage sign and converting to float\n",
    "Spirits_data_df['ABV'] = Spirits_data_df['ABV'].str.replace('%', '').astype(float)"
   ]
  },
  {
   "cell_type": "code",
   "execution_count": 56,
   "metadata": {},
   "outputs": [
    {
     "name": "stdout",
     "output_type": "stream",
     "text": [
      "The average price of spirits is: 213.29565217391297\n"
     ]
    }
   ],
   "source": [
    "#Write code to find the Average Price of the Spirits\n",
    "#CODE HERE\n",
    "spirits_avg_price = Spirits_data_df[\"Price\"].mean()\n",
    "print(\"The average price of spirits is:\", spirits_avg_price)"
   ]
  },
  {
   "cell_type": "code",
   "execution_count": 57,
   "metadata": {},
   "outputs": [
    {
     "name": "stdout",
     "output_type": "stream",
     "text": [
      "The average rating of spirits is: 4.934782608695651\n"
     ]
    }
   ],
   "source": [
    "#Write code to find the Average Rating of the Spirits\n",
    "#CODE HERE\n",
    "spirits_avg_rating = Spirits_data_df[\"Rating\"].mean()\n",
    "print(\"The average rating of spirits is:\", spirits_avg_rating)\n"
   ]
  },
  {
   "cell_type": "code",
   "execution_count": 58,
   "metadata": {},
   "outputs": [
    {
     "name": "stdout",
     "output_type": "stream",
     "text": [
      "The average rate count of spirits is: 24.862876254180602\n"
     ]
    }
   ],
   "source": [
    "#Write code to find the Average RC of the Spirits\n",
    "#CODE HERE\n",
    "spirits_avg_rc= Spirits_data_df[\"Rate Count\"].mean()\n",
    "print(\"The average rate count of spirits is:\", spirits_avg_rc)"
   ]
  },
  {
   "cell_type": "code",
   "execution_count": 59,
   "metadata": {},
   "outputs": [
    {
     "name": "stdout",
     "output_type": "stream",
     "text": [
      "The average rating/rate count of spirits is: 0.1984799569545332\n"
     ]
    }
   ],
   "source": [
    "#Write code to find the Average R/RC of the Spirits\n",
    "#CODE HERE\n",
    "spirits_avg_rrc = spirits_avg_rating / spirits_avg_rc\n",
    "print(\"The average rating/rate count of spirits is:\", spirits_avg_rrc)"
   ]
  },
  {
   "cell_type": "code",
   "execution_count": 60,
   "metadata": {},
   "outputs": [
    {
     "name": "stdout",
     "output_type": "stream",
     "text": [
      "The worth of the spirits is: 0.0009305391597607454\n"
     ]
    }
   ],
   "source": [
    "#Write code to find the Average (R/RC)/Price of the Spirits\n",
    "#CODE HERE\n",
    "spirits_worth = spirits_avg_rrc / spirits_avg_price\n",
    "print(\"The worth of the spirits is:\", spirits_worth)"
   ]
  },
  {
   "cell_type": "code",
   "execution_count": 61,
   "metadata": {},
   "outputs": [
    {
     "name": "stdout",
     "output_type": "stream",
     "text": [
      "The average ABV count of beer is: 34.15602006688962\n"
     ]
    }
   ],
   "source": [
    "#Write code to find the Average ABV of the Spirits\n",
    "#CODE HERE\n",
    "spirits_avg_abv = Spirits_data_df[\"ABV\"].mean()\n",
    "print(\"The average ABV count of beer is:\", spirits_avg_abv)"
   ]
  },
  {
   "attachments": {},
   "cell_type": "markdown",
   "metadata": {},
   "source": [
    "#Which were the most liked Spirits?"
   ]
  },
  {
   "attachments": {},
   "cell_type": "markdown",
   "metadata": {},
   "source": [
    "## Find the best of the wine\n",
    "Finding Average Price, \n",
    "Average Rating, \n",
    "Average R/RC, \n",
    "Average (R/RC)/Price, \n",
    "And Average ABV/ABV’s listed. "
   ]
  },
  {
   "cell_type": "code",
   "execution_count": 62,
   "metadata": {},
   "outputs": [],
   "source": [
    "#Write code to find the Average Price of the Wine\n",
    "#CODE HERE\n"
   ]
  },
  {
   "cell_type": "code",
   "execution_count": 63,
   "metadata": {},
   "outputs": [],
   "source": [
    "#Write code to find the Average Rating of the Wine\n",
    "#CODE HERE"
   ]
  },
  {
   "cell_type": "code",
   "execution_count": 64,
   "metadata": {},
   "outputs": [],
   "source": [
    "#Write code to find the Average R/RC of the Wine\n",
    "#CODE HERE"
   ]
  },
  {
   "cell_type": "code",
   "execution_count": 65,
   "metadata": {},
   "outputs": [],
   "source": [
    "#Write code to find the Average (R/RC)/Price of the Wine\n",
    "#CODE HERE"
   ]
  },
  {
   "cell_type": "code",
   "execution_count": 66,
   "metadata": {},
   "outputs": [],
   "source": [
    "#Write code to find the Average ABV/ABV's of the Wine\n",
    "#CODE HERE"
   ]
  },
  {
   "attachments": {},
   "cell_type": "markdown",
   "metadata": {},
   "source": [
    "#Which were the most liked wines?"
   ]
  }
 ],
 "metadata": {
  "kernelspec": {
   "display_name": "dev",
   "language": "python",
   "name": "python3"
  },
  "language_info": {
   "codemirror_mode": {
    "name": "ipython",
    "version": 3
   },
   "file_extension": ".py",
   "mimetype": "text/x-python",
   "name": "python",
   "nbconvert_exporter": "python",
   "pygments_lexer": "ipython3",
   "version": "3.7.13"
  },
  "orig_nbformat": 4
 },
 "nbformat": 4,
 "nbformat_minor": 2
}
